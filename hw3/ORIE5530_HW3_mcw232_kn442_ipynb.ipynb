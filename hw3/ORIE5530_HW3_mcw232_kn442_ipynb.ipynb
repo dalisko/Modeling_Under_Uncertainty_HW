{
  "nbformat": 4,
  "nbformat_minor": 0,
  "metadata": {
    "colab": {
      "name": "ORIE5530_HW3_mcw232_kn442.ipynb.ipynb",
      "provenance": [],
      "collapsed_sections": []
    },
    "kernelspec": {
      "name": "python3",
      "display_name": "Python 3"
    }
  },
  "cells": [
    {
      "cell_type": "markdown",
      "metadata": {
        "id": "kexKrDcvyMd9",
        "colab_type": "text"
      },
      "source": [
        "#ORIE 5530 HW3 Maxwell Wulff, Konstantinos Ntalis"
      ]
    },
    {
      "cell_type": "markdown",
      "metadata": {
        "id": "PNs00gkjZ2ZW",
        "colab_type": "text"
      },
      "source": [
        "### Question 1\n",
        "\n",
        "#### Part (a)"
      ]
    },
    {
      "cell_type": "code",
      "metadata": {
        "id": "6N9-Ph-nZ1ec",
        "colab_type": "code",
        "colab": {}
      },
      "source": [
        "import numpy as np\n",
        "import random\n",
        "\n",
        "P = np.array([[0.4,0.38,0.22],[0.12,0.7,0.18],[0.2,0.5,0.3]])\n",
        "\n",
        "\n",
        "def markov_chain(P, n, starting_state):\n",
        "\n",
        "  states = [starting_state]\n",
        "  current_state = starting_state\n",
        "  \n",
        "  for i in range(1, n):\n",
        "    if current_state == 1:\n",
        "      next_state = np.random.choice([1,2,3], p = P[0,:])\n",
        "      states.append(next_state)\n",
        "    if current_state == 2:\n",
        "      next_state = np.random.choice([1,2,3], p = P[1,:])\n",
        "      states.append(next_state)\n",
        "    if current_state == 3:\n",
        "      next_state = np.random.choice([1,2,3], p = P[2,:])\n",
        "      states.append(next_state)\n",
        "    current_state = states[i]\n",
        "\n",
        "  return states"
      ],
      "execution_count": 0,
      "outputs": []
    },
    {
      "cell_type": "code",
      "metadata": {
        "id": "g_APJbK7fNPU",
        "colab_type": "code",
        "outputId": "349749c3-b69c-40cd-c262-d9bbcdd35e80",
        "colab": {
          "base_uri": "https://localhost:8080/",
          "height": 68
        }
      },
      "source": [
        "# approximate time spent in each state\n",
        "\n",
        "t = markov_chain(P,100,1)\n",
        "\n",
        "print(t.count(1))\n",
        "print(t.count(2))\n",
        "print(t.count(3))"
      ],
      "execution_count": 123,
      "outputs": [
        {
          "output_type": "stream",
          "text": [
            "24\n",
            "63\n",
            "13\n"
          ],
          "name": "stdout"
        }
      ]
    },
    {
      "cell_type": "code",
      "metadata": {
        "id": "34UdARlYd1P3",
        "colab_type": "code",
        "outputId": "498c7b9e-273f-4096-9659-176a477140db",
        "colab": {
          "base_uri": "https://localhost:8080/",
          "height": 312
        }
      },
      "source": [
        "# plotting the states\n",
        "\n",
        "import matplotlib.pyplot as plt\n",
        "\n",
        "plt.plot(t)\n",
        "plt.title('Markov chain transition')\n",
        "plt.xlabel('Horizon')\n",
        "plt.ylabel('State')"
      ],
      "execution_count": 124,
      "outputs": [
        {
          "output_type": "execute_result",
          "data": {
            "text/plain": [
              "Text(0, 0.5, 'State')"
            ]
          },
          "metadata": {
            "tags": []
          },
          "execution_count": 124
        },
        {
          "output_type": "display_data",
          "data": {
            "image/png": "[encoded data removed]",
            "text/plain": [
              "<Figure size 432x288 with 1 Axes>"
            ]
          },
          "metadata": {
            "tags": []
          }
        }
      ]
    },
    {
      "cell_type": "markdown",
      "metadata": {
        "id": "5icSmK7tg_1O",
        "colab_type": "text"
      },
      "source": [
        "#### Part (b)"
      ]
    },
    {
      "cell_type": "code",
      "metadata": {
        "id": "OIhmYYtgfPZ6",
        "colab_type": "code",
        "colab": {}
      },
      "source": [
        "X = markov_chain(P, 1000, 1)\n",
        "\n",
        "long_term = (1/1000)*np.sum(X)\n",
        "\n",
        "beta = [0.9**k for k in range(1000)]\n",
        "\n",
        "disc = np.sum((np.array(X)**2)*np.array(beta))"
      ],
      "execution_count": 0,
      "outputs": []
    },
    {
      "cell_type": "code",
      "metadata": {
        "id": "AySC0gvZzzDG",
        "colab_type": "code",
        "outputId": "a0ef8bd9-26e9-490b-d4cd-427232c6ead3",
        "colab": {
          "base_uri": "https://localhost:8080/",
          "height": 51
        }
      },
      "source": [
        "print(long_term)\n",
        "print(disc)"
      ],
      "execution_count": 0,
      "outputs": [
        {
          "output_type": "stream",
          "text": [
            "2.065\n",
            "41.67072378239586\n"
          ],
          "name": "stdout"
        }
      ]
    },
    {
      "cell_type": "markdown",
      "metadata": {
        "id": "hGUaS5yQIMFV",
        "colab_type": "text"
      },
      "source": [
        "#### Part (c)"
      ]
    },
    {
      "cell_type": "code",
      "metadata": {
        "id": "HyGJdX_Ikjsb",
        "colab_type": "code",
        "colab": {}
      },
      "source": [
        "n = 1000\n",
        "beta = [0.9**k for k in range(n)]\n",
        "long_term = []\n",
        "disc = []\n",
        "\n",
        "for i in range(1000):\n",
        "  X = markov_chain(P, n, 1)\n",
        "  long_term.append((1/n)*np.sum(X))\n",
        "  disc.append(np.sum((np.array(X)**2)*np.array(beta)))\n",
        "\n",
        "long_term_mean = np.mean(long_term)\n",
        "disc_mean = np.mean(disc)"
      ],
      "execution_count": 0,
      "outputs": []
    },
    {
      "cell_type": "code",
      "metadata": {
        "id": "a7UbJt240KcW",
        "colab_type": "code",
        "outputId": "486c45e0-c74e-46ef-fdfb-c739ceeeeeb5",
        "colab": {
          "base_uri": "https://localhost:8080/",
          "height": 51
        }
      },
      "source": [
        "print(long_term_mean)\n",
        "print(disc_mean)"
      ],
      "execution_count": 0,
      "outputs": [
        {
          "output_type": "stream",
          "text": [
            "2.0213449999999997\n",
            "40.95547743501839\n"
          ],
          "name": "stdout"
        }
      ]
    },
    {
      "cell_type": "markdown",
      "metadata": {
        "id": "FycQS2WbwqG2",
        "colab_type": "text"
      },
      "source": [
        "#### Part (d)"
      ]
    },
    {
      "cell_type": "markdown",
      "metadata": {
        "id": "cdxmd6En0ftD",
        "colab_type": "text"
      },
      "source": [
        "Using the formula from the notes we have\n",
        "\n",
        "$$\\mathbb{E}[\\sum_{k=0}^n\\beta^kf(X_k)|X_0=1]=\\sum_{k=0}^n\\beta^k\\sum_{y=1}^3f(y)[P^k]_{xy}$$\n",
        "\n",
        "where $f(y)=y^2$. We can then find the value of this for $n=1000$, using the code below."
      ]
    },
    {
      "cell_type": "code",
      "metadata": {
        "id": "3Mn4dJ_Ww7zJ",
        "colab_type": "code",
        "colab": {
          "base_uri": "https://localhost:8080/",
          "height": 34
        },
        "outputId": "804992a6-dab3-4550-8298-14dc51c68335"
      },
      "source": [
        "s = 0\n",
        "for k in range(1000):\n",
        "  A = np.linalg.matrix_power(P, k)\n",
        "  s += (0.9**k)*(1*A[0,0]+4*A[0,1]+9*A[0,2])\n",
        "\n",
        "print(s)"
      ],
      "execution_count": 118,
      "outputs": [
        {
          "output_type": "stream",
          "text": [
            "40.77818435686949\n"
          ],
          "name": "stdout"
        }
      ]
    },
    {
      "cell_type": "markdown",
      "metadata": {
        "id": "Ooqzvtfh15pK",
        "colab_type": "text"
      },
      "source": [
        "As expected, it is pretty close to the result found in (c)."
      ]
    },
    {
      "cell_type": "markdown",
      "metadata": {
        "id": "JkOocalnKlTC",
        "colab_type": "text"
      },
      "source": [
        "### Question 2\n",
        "\n",
        "#### Part (a)"
      ]
    },
    {
      "cell_type": "markdown",
      "metadata": {
        "id": "FHVaVIzUKtA8",
        "colab_type": "text"
      },
      "source": [
        "At any point in time when the game is still going, player 1 is either tied with player 1, wins by 1 or loses by 1. In all other scenarios, the game has ended as we have a difference of more than two either in favour of player 1 or player 2. So let's denote with $p_{i}$ the probability that player 1 wins if the game is in state $i$. Here $i \\in \\{-1,0,1,2,-2\\}$. Obviously $p_{2}=1$ and $p_{-2}=0$.\n",
        "\n",
        "$$\\begin{align}\n",
        "p_{1} & = p + p_{0} (1-p) \\\\\n",
        "p_{0} & = p_{1} p + p_{-1}(1-p) \\\\\n",
        "p_{-1} & = p_{0}p \\\\ \n",
        "\\end{align}\n",
        "$$\n",
        "\n",
        "This is a $3x3$ system that can be easily solved. Since we are interested in $p_{0}$, i.e. the start of the game, then:\n",
        "\n",
        "$$p_{0}=\\frac{p^2}{1-2p(1-p)}$$"
      ]
    },
    {
      "cell_type": "markdown",
      "metadata": {
        "id": "bxa4TV61P33C",
        "colab_type": "text"
      },
      "source": [
        "#### Part (b)"
      ]
    },
    {
      "cell_type": "markdown",
      "metadata": {
        "id": "3yX-6HKvP_U9",
        "colab_type": "text"
      },
      "source": [
        "We can condition the expectation on what happens in the first two games. The game can end in the first two games if all of the games are won by one of the players. If each one gets a win, we can write the expectation recursively as follows\n",
        "\n",
        "\n",
        "$$E(X)= 2p^2+2(1-p)^2+2p(1-p)\\big(2+E(x)\\big)$$\n",
        "\n",
        "Note here that if they both get a win in the first two games, then we have played 2 games and we need $E(x)$ more. Also since the event of splitting the wins can occur in two ways, we need this extra factor of two. Rearranging, we get\n",
        "\n",
        "\n",
        "$$E(x)=\\frac{2}{1-2p(1-p)}$$"
      ]
    },
    {
      "cell_type": "markdown",
      "metadata": {
        "id": "Mr7hdEhMLj2U",
        "colab_type": "text"
      },
      "source": [
        "### Question 3"
      ]
    },
    {
      "cell_type": "markdown",
      "metadata": {
        "id": "p5hFado6Ln1h",
        "colab_type": "text"
      },
      "source": [
        "When we are at 0, then obviously $E(T_1)=1$. Then for all the other nodes the reasoning is the following. With probability $1/2$ we only need one step and with probability $1/2$ we move one node back and hence we need $E(T_{i-1})+E(T{i})$. But note that to do that, we have taken one extra step. Therefore in total we have\n",
        "\n",
        "\n",
        "$$E(T_i)=\\frac{1}{2}+\\frac{1}{2}\\big(1+E(T_{i-1})+E(T_i)\\big)$$\n",
        "\n",
        "\n",
        "We therefore get\n",
        "\n",
        "\n",
        "$$E(T_i)-E(T_{i-1})=2$$\n",
        "\n",
        "\n",
        "Then by using this recursively to replace $E(T_{i-1})$, we eventually get\n",
        "\n",
        "\n",
        "$$E(T_i)-E(T_1)=2(i+1)$$\n",
        "\n",
        "\n",
        "and hence\n",
        "\n",
        "\n",
        "$$E(T_i)=2i-1$$\n",
        "\n",
        "\n",
        "Finally, to get the desired result we simply evaluate\n",
        "\n",
        "\n",
        "$$\\sum_{i=1}^nE(T_i)=\\sum_{i=1}^n(2i-1)=n^2$$"
      ]
    }
  ]
}