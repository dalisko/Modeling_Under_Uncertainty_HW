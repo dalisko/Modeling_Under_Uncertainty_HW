{
 "cells": [
  {
   "cell_type": "markdown",
   "metadata": {},
   "source": [
    "# ORIE 5530 HW2 Maxwell Wulff, Konstantinos Ntalis"
   ]
  },
  {
   "cell_type": "code",
   "execution_count": 1,
   "metadata": {},
   "outputs": [],
   "source": [
    "import numpy as np"
   ]
  },
  {
   "cell_type": "markdown",
   "metadata": {},
   "source": [
    "### Question 1\n",
    "#### Part (a)"
   ]
  },
  {
   "cell_type": "code",
   "execution_count": 17,
   "metadata": {},
   "outputs": [],
   "source": [
    "p = 12\n",
    "c = 3\n",
    "income = []\n",
    "\n",
    "# the driver can work for integers hours <= 10\n",
    "for i in range(1,11):\n",
    "    in_per_hour = []\n",
    "    mean = np.log(1+i) # mean of the poisson process\n",
    "    cost = c*i\n",
    "    # simulating poisson random variables\n",
    "    for j in range(1000000):\n",
    "        D = np.random.poisson(mean)\n",
    "        in_per_hour.append(p*D-cost)\n",
    "    income.append(in_per_hour)"
   ]
  },
  {
   "cell_type": "markdown",
   "metadata": {},
   "source": [
    "We can now calculate the mean obtained from the simulations for each value of $t$ as"
   ]
  },
  {
   "cell_type": "code",
   "execution_count": 18,
   "metadata": {},
   "outputs": [
    {
     "data": {
      "text/plain": [
       "array([ 5.310888,  7.1919  ,  7.615512,  7.29918 ,  6.505692,  5.330196,\n",
       "        3.956184,  2.354328,  0.631944, -1.226892])"
      ]
     },
     "execution_count": 18,
     "metadata": {},
     "output_type": "execute_result"
    }
   ],
   "source": [
    "np.mean(income, axis = 1)"
   ]
  },
  {
   "cell_type": "markdown",
   "metadata": {},
   "source": [
    "and the standard deviation"
   ]
  },
  {
   "cell_type": "code",
   "execution_count": 19,
   "metadata": {},
   "outputs": [
    {
     "data": {
      "text/plain": [
       "array([ 9.99000724, 12.59499069, 14.10858551, 15.21371287, 16.05924468,\n",
       "       16.7448959 , 17.31702192, 17.78146506, 18.2111761 , 18.58403229])"
      ]
     },
     "execution_count": 19,
     "metadata": {},
     "output_type": "execute_result"
    }
   ],
   "source": [
    "np.std(income, axis = 1)"
   ]
  },
  {
   "cell_type": "markdown",
   "metadata": {},
   "source": [
    "##### Part (b)"
   ]
  },
  {
   "cell_type": "markdown",
   "metadata": {},
   "source": [
    "$$ P(t) = p\\mu(t)-c t $$\n",
    "\n",
    "\n",
    "where $P$ is the total profit, $p$ the average dollar amount per ride and $c$ the cost. We can now differentiate and set the derivative to zero. We obtain\n",
    "\n",
    "\n",
    "$$\\frac{\\partial P}{\\partial t} = 0 \\implies \\frac{p}{1+t}=c$$\n",
    "\n",
    "Thus for the given values for $p$ and $c$ we get $t=3$."
   ]
  },
  {
   "cell_type": "markdown",
   "metadata": {},
   "source": [
    "### Question 2\n",
    "#### Part (a)"
   ]
  },
  {
   "cell_type": "markdown",
   "metadata": {},
   "source": [
    "We have \n",
    "\n",
    "$$\\mathbb{P}[W=2,B=3,R=1]=\\frac{\\binom{3}{2}\\binom{5}{3}\\binom{6}{1}}{\\binom{14}{6}}=\\frac{3\\cdot10\\cdot6}{3003}=0.06$$"
   ]
  },
  {
   "cell_type": "markdown",
   "metadata": {},
   "source": [
    "#### Part (b)"
   ]
  },
  {
   "cell_type": "markdown",
   "metadata": {},
   "source": [
    "We have that 3 black balls have already been chosen. Therefore we have 2 black balls remaining.\n",
    "\n",
    "\n",
    "$$\\mathbb{P}[W=t|B=3]=\\frac{\\binom{3}{t}\\binom{6}{3-t}}{\\binom{9}{3}}$$"
   ]
  },
  {
   "cell_type": "markdown",
   "metadata": {},
   "source": [
    "##### Part (c)"
   ]
  },
  {
   "cell_type": "markdown",
   "metadata": {},
   "source": [
    "$$\\mathbb{P}[W=t|B=3]=\\binom{3}{t}\\Big(\\frac{3}{14}\\Big)^{t}\\Big(\\frac{11}{14}\\Big)^{3-t}$$"
   ]
  },
  {
   "cell_type": "markdown",
   "metadata": {},
   "source": [
    "### Question 3\n",
    "#### Part (a)"
   ]
  },
  {
   "cell_type": "markdown",
   "metadata": {},
   "source": [
    "We can show that for independent Poisson processes, the following holds\n",
    "\n",
    "$$Poisson(\\lambda_1)+Poisson(\\lambda_2)=Poisson(\\lambda_{1}+\\lambda_{2})$$\n",
    "\n",
    "Suppose that $X,Y$ are Poisson random variables and $Z=X+Y$ is also a random variable. Then\n",
    "\n",
    "\n",
    "$$\\mathbb{P}(Z=z)=\\mathbb{P}(X+Y=z)=\\sum_{x+y=z}\\mathbb{P}(X=x,Y=y)$$\n",
    "\n",
    "Then from the independence assumption we have\n",
    "\n",
    "$$\n",
    "\\begin{align}\n",
    "\\mathbb{P}(Z=z) & = \\sum_{x+y=z}\\mathbb{P}(X=x)P(Y=y) \\\\\n",
    "& = \\sum_{x+y=z}\\frac{e^{-\\lambda_1}\\lambda_{1}^x}{x!}\\frac{e^{-\\lambda_2}\\lambda_{2}^y}{y!} \\\\\n",
    "& = e^{-(\\lambda_{1}+\\lambda_{2})}\\sum_{x+y=z}\\frac{\\lambda_{1}^x}{x!}\\frac{\\lambda_{2}^y}{y!}\n",
    "\\end{align}\n",
    "$$\n",
    "\n",
    "Now using the definition of the binomial coefficient $\\binom{z}{x}$ we can write the above as\n",
    "\n",
    "\n",
    "$$\\frac{e^{-(\\lambda_{1}+\\lambda_{2}})}{z!}\\sum_{x+y=z}\\binom{z}{x}\\lambda_{1}^x\\lambda_{2}^y = \\frac{e^{-(\\lambda_{1}+\\lambda_{2})}(\\lambda_1+\\lambda_2)^z}{z!}$$\n",
    "\n",
    "\n",
    "and this is a poisson distribution with mean and variance $\\lambda_1+\\lambda_2$."
   ]
  },
  {
   "cell_type": "markdown",
   "metadata": {},
   "source": [
    "#### Part (b)"
   ]
  },
  {
   "cell_type": "markdown",
   "metadata": {},
   "source": [
    "Well the probability for a customer to go to store 1 is $\\frac{\\lambda_1}{\\lambda_1+\\lambda_2}$ and $\\frac{\\lambda_2}{\\lambda_1+\\lambda_2}$ to go to store 2. Then we have:\n",
    "\n",
    "\n",
    "\n",
    "\n",
    "$$\\mathbb{P}(X_1=i|Y=n) = \\binom{n}{i}\\Big(\\frac{\\lambda_1}{\\lambda_1+\\lambda_2}\\Big)^{i}\\Big(\\frac{\\lambda_2}{\\lambda_1+\\lambda_2}\\Big)^{n-i}$$\n",
    "\n",
    "Similarly,\n",
    "\n",
    "$$\\mathbb{P}(X_2=i|Y=n) = \\binom{n}{i}\\Big(\\frac{\\lambda_2}{\\lambda_1+\\lambda_2}\\Big)^{i}\\Big(\\frac{\\lambda_1}{\\lambda_1+\\lambda_2}\\Big)^{n-i}$$\n",
    "\n",
    "\n",
    "\n",
    "Now as shown in lectures, to understand $\\mathbb{P}(X_1=i)$ and $\\mathbb{P}(X_2=i)$ we can consider the Poisson approximation to the binomial. If we consider a sequence of these random variables such that $n$ is increasing along the sequence but $p$ is decreasing so as to keep $np=\\lambda$ constant. In our case $p=\\frac{\\lambda_1}{\\lambda_1+\\lambda_2}$ or $p=\\frac{\\lambda_2}{\\lambda_1+\\lambda_2}$ according to the store. Then,\n",
    "\n",
    "$$\\mathbb{P}(X_{n,p}=i)\\rightarrow \\frac{e^{-\\lambda}\\lambda^{i}}{i!}$$"
   ]
  },
  {
   "cell_type": "markdown",
   "metadata": {},
   "source": [
    "#### Part (c)"
   ]
  },
  {
   "cell_type": "markdown",
   "metadata": {},
   "source": [
    "The mean of two random variables is additive. If $X_1 \\sim Poisson(\\lambda_1)$ and $X_2 \\sim Poisson(\\lambda_2)$. Then\n",
    "\n",
    "$$\\mathbb{E}[X_1+X_2]=\\mathbb{E}[X_1]+\\mathbb{E}[X_2]=\\lambda_1+\\lambda_2$$\n",
    "\n",
    "\n",
    "As for the variance,\n",
    "\n",
    "\n",
    "$$\\begin{align}\n",
    "\\mathrm{Var}[X_1+X_2] &= \\mathrm{Var}[X_1]+\\mathrm{Var}[X_2]+2\\mathrm{Cov}[X_1,X_2] \\\\\n",
    "& = \\lambda_1 + \\lambda_2 + 1.6\\lambda_{1}\\lambda_{2}\n",
    "\\end{align}\n",
    "$$"
   ]
  }
 ],
 "metadata": {
  "kernelspec": {
   "display_name": "Python 3",
   "language": "python",
   "name": "python3"
  },
  "language_info": {
   "codemirror_mode": {
    "name": "ipython",
    "version": 3
   },
   "file_extension": ".py",
   "mimetype": "text/x-python",
   "name": "python",
   "nbconvert_exporter": "python",
   "pygments_lexer": "ipython3",
   "version": "3.7.3"
  }
 },
 "nbformat": 4,
 "nbformat_minor": 2
}
