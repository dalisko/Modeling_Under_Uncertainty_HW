{
 "cells": [
  {
   "cell_type": "markdown",
   "metadata": {
    "colab_type": "text",
    "id": "AR1mBS0EIgRZ"
   },
   "source": [
    "# ORIE 5530 HW3 Maxwell Wulff, Konstantinos Ntalis"
   ]
  },
  {
   "cell_type": "markdown",
   "metadata": {
    "colab_type": "text",
    "id": "N6vkJDsLInkb"
   },
   "source": [
    "### Question 1\n",
    "\n",
    "#### Part (a)"
   ]
  },
  {
   "cell_type": "code",
   "execution_count": 2,
   "metadata": {
    "colab": {},
    "colab_type": "code",
    "id": "AhdUAw4mLnK6"
   },
   "outputs": [],
   "source": [
    "import numpy as np\n",
    "import random\n",
    "import matplotlib.pyplot as plt\n",
    "\n",
    "P = np.array([[0,0.6,0.4],[0.3,0,0.7],[0.85,0.15,0]])\n",
    "lam = [1, 1/2, 1/3]\n",
    "\n",
    "\n",
    "def markov_chain(P, lam, n, starting_state):\n",
    "\n",
    "    states = [starting_state]\n",
    "    time = [0]\n",
    "    current_state = starting_state\n",
    "    i = 0\n",
    "    while time[i] < n:\n",
    "        if current_state == 1:\n",
    "            next_state = np.random.choice([1,2,3], p = P[0,:])\n",
    "            next_time = np.random.exponential(lam[0])\n",
    "            time.append(time[i] + next_time)\n",
    "            states.append(next_state)\n",
    "        if current_state == 2:\n",
    "            next_state = np.random.choice([1,2,3], p = P[1,:])\n",
    "            next_time = np.random.exponential(lam[1])\n",
    "            time.append(time[i] + next_time)\n",
    "            states.append(next_state)\n",
    "        if current_state == 3:\n",
    "            next_state = np.random.choice([1,2,3], p = P[2,:])\n",
    "            next_time = np.random.exponential(lam[2])\n",
    "            time.append(time[i] + next_time)\n",
    "            states.append(next_state)\n",
    "    \n",
    "        i += 1\n",
    "        current_state = states[i]\n",
    "\n",
    "\n",
    "    return states, time"
   ]
  },
  {
   "cell_type": "code",
   "execution_count": 28,
   "metadata": {
    "colab": {},
    "colab_type": "code",
    "id": "7NG_mGsuJpS-"
   },
   "outputs": [],
   "source": [
    "m, t = markov_chain(P, lam, 1000, 1)"
   ]
  },
  {
   "cell_type": "code",
   "execution_count": 4,
   "metadata": {
    "colab": {
     "base_uri": "https://localhost:8080/",
     "height": 530
    },
    "colab_type": "code",
    "id": "ZQMptqOFNLlR",
    "outputId": "d50322cc-56da-4946-9d61-cdd0e19dce99"
   },
   "outputs": [
    {
     "data": {
      "text/plain": [
       "[<matplotlib.lines.Line2D at 0x1206e59b0>]"
      ]
     },
     "execution_count": 4,
     "metadata": {},
     "output_type": "execute_result"
    },
    {
     "data": {
      "image/png": "[encoded data removed]",
      "text/plain": [
       "<Figure size 720x288 with 1 Axes>"
      ]
     },
     "metadata": {
      "needs_background": "light"
     },
     "output_type": "display_data"
    }
   ],
   "source": [
    "plt.figure(figsize = (10,4))\n",
    "plt.step(t,m, linewidth = 0.5)"
   ]
  },
  {
   "cell_type": "markdown",
   "metadata": {
    "colab_type": "text",
    "id": "z-DqGZDMGjbS"
   },
   "source": [
    "To compute \n",
    "\n",
    "$$\\frac{1}{1000}\\int_{0}^{1000}X(s)^{2}ds$$ \n",
    "\n",
    "we can use:"
   ]
  },
  {
   "cell_type": "code",
   "execution_count": 5,
   "metadata": {
    "colab": {
     "base_uri": "https://localhost:8080/",
     "height": 34
    },
    "colab_type": "code",
    "id": "ejMMbFYVXl5m",
    "outputId": "e2a85b77-767f-4b2c-d38a-dd00a8621d60"
   },
   "outputs": [
    {
     "name": "stdout",
     "output_type": "stream",
     "text": [
      "The expected reward is 3.120617874547287\n"
     ]
    }
   ],
   "source": [
    "rew = 0\n",
    "for i in range(len(m)-1):\n",
    "    rew += (m[i]**2)*(t[i+1]-t[i])\n",
    "rew = (1/1000)*(rew)\n",
    "\n",
    "print('The expected reward is {}' .format(rew))"
   ]
  },
  {
   "cell_type": "markdown",
   "metadata": {
    "colab_type": "text",
    "id": "COpZSDAEfZvD"
   },
   "source": [
    "#### Part (b)"
   ]
  },
  {
   "cell_type": "markdown",
   "metadata": {
    "colab_type": "text",
    "id": "xwkRNzuoE5fx"
   },
   "source": [
    "First, let's calculate the discrete Markov chain stationary distribution\n",
    "\n",
    "$$\\begin{align}\n",
    "\\pi_{1}&=0.3\\pi_{2}+0.85\\pi{3}\\\\\n",
    "\\pi_{2}&=0.6\\pi_{1}+0.15\\pi_{3}\\\\\n",
    "\\pi_{3}&=-\\pi_{1}-\\pi_{2}+1\n",
    "\\end{align}$$\n",
    "\n",
    "We can solve this using python"
   ]
  },
  {
   "cell_type": "code",
   "execution_count": 8,
   "metadata": {
    "colab": {},
    "colab_type": "code",
    "id": "8fcPDxBlE8SX"
   },
   "outputs": [
    {
     "data": {
      "text/plain": [
       "array([0.37684211, 0.27789474, 0.34526316])"
      ]
     },
     "execution_count": 8,
     "metadata": {},
     "output_type": "execute_result"
    }
   ],
   "source": [
    "a = [[-1,0.3,0.85],[0.6,-1,0.15],[1,1,1]]\n",
    "b = [0,0,1]\n",
    "\n",
    "p = np.linalg.solve(a,b)\n",
    "p"
   ]
  },
  {
   "cell_type": "markdown",
   "metadata": {
    "colab_type": "text",
    "id": "PsTd2MJtH6nh"
   },
   "source": [
    "We can now compute the stationary distribution of the CTMC as follows\n",
    "\n",
    "$$\\pi_{i}=\\frac{\\pi_{i}^{D}/\\lambda_{i}}{\\sum_{j=1}^{3}\\pi_{j}^{D}/\\lambda_{j}}$$\n",
    "\n",
    "Therefore\n",
    "\n",
    "$$\\pi_{1}=0.59,\\pi_{2}=0.22,\\pi_{3}=0.19$$\n",
    "\n",
    "and thus the long run expected reward is\n",
    "\n",
    "$$\\sum_{i=1}^3 i^2 \\pi_i$$"
   ]
  },
  {
   "cell_type": "code",
   "execution_count": 7,
   "metadata": {
    "colab": {
     "base_uri": "https://localhost:8080/",
     "height": 34
    },
    "colab_type": "code",
    "id": "0J3weEpFH-Q2",
    "outputId": "5c761340-9d95-426f-9b8e-f0be50aca872"
   },
   "outputs": [
    {
     "name": "stdout",
     "output_type": "stream",
     "text": [
      "The long-run average expected reward is 3.1799999999999997. This is indeed very close to the simulation result.\n"
     ]
    }
   ],
   "source": [
    "print('The long-run average expected reward is {}. This is indeed very close to the simulation result.' .format(np.sum([1,4,9]*np.array([0.59,0.22,0.19]))))"
   ]
  },
  {
   "cell_type": "markdown",
   "metadata": {
    "colab_type": "text",
    "id": "CP-migQteUfr"
   },
   "source": [
    "#### Question 2\n"
   ]
  },
  {
   "cell_type": "markdown",
   "metadata": {
    "colab_type": "text",
    "id": "IM7KSjLCeW1W"
   },
   "source": [
    "Part (a)\n",
    "\n",
    "Suppose that the chain is currently at state $(n_{A},n_{B})$. The cell splitting process follows an exponential distribution. Cells at state $A$ change with rate $\\beta$ and cells at state $B$ and cells that state $B$ change with rate $\\alpha$. Therefore, the transition is the minimum of the the two exponentials, that is, an exponential with rate $\\lambda_{n_{A},n_{B}}=n_{A}\\beta+n_{B}\\alpha$ and thus $\\lambda=(n_{A}\\beta,n_{B}\\alpha)$. Now given the initial state $(n_{A},n_{B})$, if a cell in state $A$ splits first, we move to $(n_{A}-1,n_{B}+1)$ with probability $\\frac{n_{A}\\beta}{n_{A}\\beta+n_{B}\\alpha}$. If on the other hand, a cell in state $B$ splits first, we move to $(n_{A}+1,n_{B}-1)$ with probability $\\frac{n_{B}\\alpha}{n_{A}\\beta+n_{B}\\alpha}$. Notice, that all the above completely characterize a rate vector $\\lambda$ and a transition probability matrix $P$.\n",
    "\n",
    "For the transition matrix $Q$, first note that $\\lambda_{ij}=\\lambda_{i}P_{ij}$. Therefore the matrix is characterized by the following two rates\n",
    "\n",
    "$$\\begin{align}\n",
    "\\lambda_{(n_{A},n_{b})(n_{A}-1,n_{B}+1)} &= \\frac{n_{A}\\beta}{n_{A}\\beta+n_{B}\\alpha}(n_{A}\\beta+n_{B}\\alpha)=n_{A}\\beta \\\\ \\\\ \n",
    "\\lambda_{(n_{A},n_{b})(n_{A}+1,n_{B}-2)} &= \\frac{n_{B}\\alpha}{n_{A}\\beta+n_{B}\\alpha}(n_{A}\\beta+n_{B}\\alpha)=n_{B}\\alpha\n",
    "\\end{align}$$"
   ]
  },
  {
   "cell_type": "markdown",
   "metadata": {
    "colab_type": "text",
    "id": "sVFEehUgGCfb"
   },
   "source": [
    "### Question 3\n",
    "\n",
    "#### Part (a)"
   ]
  },
  {
   "cell_type": "markdown",
   "metadata": {},
   "source": [
    "Demand arrives according to a Poisson process with rate $\\mu$ and the supplier will show up within an $exp(l)$ amount of time to replenish the inventory to 5.\n",
    "\n",
    "<img src=\"markov_chain_2.png\" width=\"500\" height=\"500\" />\n"
   ]
  },
  {
   "cell_type": "markdown",
   "metadata": {},
   "source": [
    "#### Part (b)\n",
    "\n",
    "We will move to five with probability $\\frac{l}{l+\\mu}$ after $\\frac{1}{l}$ time. Similarly we will move to three with probability $\\frac{\\mu}{l+\\mu}$ after $\\frac{1}{\\mu}$ time. Thus in total, we get that the expected time until we either go back to 5 (the supplier arrives) or we go down to 3 (another customer takes an item) is\n",
    "\n",
    "$$\\frac{1}{l}\\frac{l}{l+\\mu}+\\frac{1}{\\mu}\\frac{\\mu}{l+\\mu}=\\frac{2}{l+\\mu}$$"
   ]
  },
  {
   "cell_type": "markdown",
   "metadata": {},
   "source": [
    "#### Part (c)"
   ]
  },
  {
   "cell_type": "markdown",
   "metadata": {
    "colab_type": "text",
    "id": "yuQF2d2AHQWk"
   },
   "source": [
    "Let's denote by $\\mathbb{E}[x,y]$ the expected amount of time it takes to go from state $x$ to state $y$.\n",
    "\n",
    "$$\\begin{align}\n",
    "\\mathbb{E}[5,4]&=\\frac{1}{\\mu}\\\\\n",
    "\\mathbb{E}[4,3]&=\\frac{1}{\\mu}\\frac{\\mu}{\\mu+l}+\\frac{l}{\\mu+l}\\big(\\mathbb{E}[4,3]+\\mathbb{E}[5,4]+\\frac{1}{l}\\big)\\\\\n",
    "\\mathbb{E}[3,2]&=\\frac{1}{\\mu}\\frac{\\mu}{\\mu+l}+\\frac{l}{\\mu+l}\\big(\\mathbb{E}[3,2]+\\mathbb{E}[4,3]+\\mathbb{E}[5,4]+\\frac{1}{l}\\big)\\\\\n",
    "\\mathbb{E}[2,1]&=\\frac{1}{\\mu}\\frac{\\mu}{\\mu+l}+\\frac{l}{\\mu+l}\\big(\\mathbb{E}[2,1]+\\mathbb{E}[3,2]+\\mathbb{E}[4,3]+\\mathbb{E}[5,4]+\\frac{1}{l}\\big)\\\\\n",
    "\\mathbb{E}[1,0]&=\\frac{1}{\\mu}\\frac{\\mu}{\\mu+l}+\\frac{l}{\\mu+l}\\big(\\mathbb{E}[1,0]+\\mathbb{E}[2,1]+\\mathbb{E}[3,2]+\\mathbb{E}[4,3]+\\mathbb{E}[5,4]+\\frac{1}{l}\\big)\n",
    "\\end{align}$$\n",
    "\n",
    "\n",
    "Then for $i \\neq 5$, we can see that \n",
    "\n",
    "\n",
    "\n",
    "$$\\mathbb{E}[i,i-1]=\\frac{\\mu}{l+\\mu}\\mathbb{E}[i-1,i-2]$$\n",
    "\n",
    "\n",
    "\n",
    "Firstly, using the expression for $\\mathbb{E}[5,4]$ we can start by computing $\\mathbb{E}[4,3]$\n",
    "\n",
    "\n",
    "\n",
    "$$\\mathbb{E}[4,3]=\\frac{1}{\\mu+l}+\\frac{l}{\\mu+l}\\big(\\mathbb{E}[4,3]+\\frac{1}{\\mu}+\\frac{1}{l}\\big)$$\n",
    "\n",
    "\n",
    "\n",
    "\n",
    "After some algebra, we get $\\mathbb{E}[4,3]=\\frac{2\\mu+l}{\\mu^2}$. We can then work backwards using $\\mathbb{E}[4,3]$ that we obtained earlier and noting that\n",
    "\n",
    "\n",
    "\n",
    "\n",
    "$$\\begin{align}\n",
    "\\mathbb{E}[4,3]&=\\Big(\\frac{\\mu+l}{\\mu}\\Big)\\mathbb{E}[3,2]\\\\\\\\\n",
    "\\mathbb{E}[3,2]&=\\Big(\\frac{\\mu+l}{\\mu}\\Big)\\mathbb{E}[2,1]\\\\\\\\\n",
    "\\mathbb{E}[2,1]&=\\Big(\\frac{\\mu+l}{\\mu}\\Big)\\mathbb{E}[1,0]\\\\\\\\\n",
    "\\end{align}$$\n",
    "\n",
    "\n",
    "\n",
    "Again, after some straightforward algebra, we get \n",
    "\n",
    "\n",
    "\n",
    "$$\\begin{align}\n",
    "\\mathbb{E}[4,3]&=\\frac{2\\mu+l}{\\mu^2}\\\\\\\\\n",
    "\\mathbb{E}[3,2]&=\\frac{2\\mu+l}{\\mu(\\mu+l)}\\\\\\\\\n",
    "\\mathbb{E}[2,1]&=\\frac{2\\mu+l}{(\\mu+l)^2}\\\\\\\\\n",
    "\\mathbb{E}[1,0]&=\\frac{(2\\mu+l)\\mu}{(\\mu+l)^3}\n",
    "\\end{align}$$\n",
    "\n",
    "\n",
    "\n",
    "Then, the expected time until we run out of inventory and start disappointing customers is simply \n",
    "\n",
    "\n",
    "\n",
    "\n",
    "$$\\mathbb{E}[5,0]=\\sum_{i=1}^{5}\\mathbb{E}[i,i-1]=\\frac{1}{\\mu}+\\frac{2\\mu+l}{\\mu^2}+\\frac{2\\mu+l}{\\mu+l}\\Big(\n",
    "\\frac{1}{\\mu}+\\frac{1}{(\\mu+l)^2}+\\frac{\\mu}{(\\mu+l)^3}\\Big)$$"
   ]
  },
  {
   "cell_type": "markdown",
   "metadata": {
    "colab_type": "text",
    "id": "9H2IeTm3KDnb"
   },
   "source": [
    "#### Part (d)\n",
    "\n",
    "Let's firstly try to find the stationary distribution of the CTMC, using\n",
    "\n",
    "$$\\pi Q=0$$ and $$\\sum_{i=0}^{5}\\pi_{i}=1$$\n",
    "\n",
    "Well, we have that \n",
    "\n",
    "$$Q=\\begin{pmatrix}\n",
    "-l&0&0&0&0&l\\\\\n",
    "\\mu&-(\\mu+l)&0&0&0&l\\\\\n",
    "0&\\mu&-(\\mu+l)&0&0&l\\\\\n",
    "0&0&\\mu&-(\\mu+l)&0&l\\\\\n",
    "0&0&0&\\mu&-(\\mu+l)&l\\\\\n",
    "0&0&0&0&\\mu&-\\mu\n",
    "\\end{pmatrix}$$\n",
    "\n",
    "Then using the first two equations written above we obtain the following. Notice that we're not using the last equation we can get from the matrix multiplication since we do not need it - we already have six equations with six unknowns.\n",
    "\n",
    "$$\\begin{align}\n",
    "-l\\pi_{0}+\\pi_{1}\\mu&=0\\\\\n",
    "-(\\mu+l)\\pi_{1}+\\pi_{2}\\mu&=0\\\\\n",
    "-(\\mu+l)\\pi_{2}+\\pi_{3}\\mu&=0\\\\\n",
    "-(\\mu+l)\\pi_{3}+\\pi_{4}\\mu&=0\\\\\n",
    "-(\\mu+l)\\pi_{4}+\\pi_{5}\\mu&=0\\\\\n",
    "\\pi_{0}+\\pi_{1}+\\pi_{2}+\\pi_{3}+\\pi_{4}+\\pi_{5}&=1\n",
    "\\end{align}$$\n",
    "\n",
    "Then, using the first five equations and plugging them into the sixth, we get\n",
    "\n",
    "$$\\pi_{0}\\Big(1+\\frac{l}{\\mu}+\\frac{(\\mu+l)}{\\mu^2}l\\frac{(\\mu+l)^2}{\\mu^3}l+\\frac{(\\mu+l)^3}{\\mu^4}l+\\frac{(\\mu+l)^4}{\\mu^5}l\\Big)=1$$\n",
    "\n",
    "\n",
    "Setting $r=\\frac{\\mu+l}{\\mu}$ and using the formula for the sum of a geometric series we get\n",
    "\n",
    "\n",
    "$$\\pi_{0}=\\frac{1-r}{(1-r)r+lr(1-r^4)}$$\n",
    "\n",
    "Then when we are at this stage, if customers arrive, they will leave empty handed. Therefore, the required fraction of time is \n",
    "\n",
    "$$\\pi_{0}\\cdot\\frac{\\mu}{\\mu+l}$$"
   ]
  },
  {
   "cell_type": "code",
   "execution_count": null,
   "metadata": {},
   "outputs": [],
   "source": []
  }
 ],
 "metadata": {
  "colab": {
   "collapsed_sections": [],
   "name": "ORIE5530_HW4_mcw232_kn442.ipynb",
   "provenance": []
  },
  "kernelspec": {
   "display_name": "Python 3",
   "language": "python",
   "name": "python3"
  },
  "language_info": {
   "codemirror_mode": {
    "name": "ipython",
    "version": 3
   },
   "file_extension": ".py",
   "mimetype": "text/x-python",
   "name": "python",
   "nbconvert_exporter": "python",
   "pygments_lexer": "ipython3",
   "version": "3.7.3"
  }
 },
 "nbformat": 4,
 "nbformat_minor": 1
}
