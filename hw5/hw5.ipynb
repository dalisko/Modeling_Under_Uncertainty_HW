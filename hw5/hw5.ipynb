{
 "cells": [
  {
   "cell_type": "markdown",
   "metadata": {},
   "source": [
    "## Question 1"
   ]
  },
  {
   "cell_type": "markdown",
   "metadata": {},
   "source": [
    "### Part (a)"
   ]
  },
  {
   "cell_type": "markdown",
   "metadata": {},
   "source": [
    "Suppose that $i$ time periods have passed and the remaining budget is $x$. Then the next candidate comes in. We hire her according to some policy $\\delta = (\\delta_1,\\delta_2,\\delta_3,\\delta_4)$. If the policy suggests we should make the hire, we get a reward to $k$ with probability $p_1\\delta_1+p_2\\delta_2+p_3\\delta_3+p_4\\delta_4$. and we expect to obtain some value in the remaining iterations, with the remaining budget, namely $V_{i+1}(x-1)$. Now if the policy suggests that we should not make the hire, we move to the next state, namely $V_{i+1}(x)$ with probability $1-p_1\\delta_1-p_2\\delta_2-p_3\\delta_3-p_4\\delta_4$. Therefore in order to determine the optimal policy at each state in order to maximize our value we just have to evaluate which of the two options gives us the highest value. Therefore, we have that\n",
    "\n",
    "\n",
    "$$V_i(x)=\\sum_{k=1}^{4}p_k \\max\\{k+V_{i+1}(x-1),V_{i+1}(x) \\}$$\n",
    "\n",
    "\n",
    "Note also that $\\delta_k$ is in essence hidden in this equation. If the maximum function picks the left argument, then $\\delta_k=1$ for this particular $k$ and $\\delta_k=0$ otherwise."
   ]
  },
  {
   "cell_type": "markdown",
   "metadata": {},
   "source": [
    "### Part (b)"
   ]
  },
  {
   "cell_type": "code",
   "execution_count": 1,
   "metadata": {},
   "outputs": [],
   "source": [
    "def rec(x, i, cache, horizon):\n",
    "    \n",
    "    if i > horizon:\n",
    "        return 0 \n",
    "    if x == 0:\n",
    "        return 0\n",
    "    \n",
    "    if (x,i) in cache:\n",
    "        return(cache[(x,i)])\n",
    "    \n",
    "    s = 0\n",
    "    for k in range(1, 5):\n",
    "        s += 0.25 * max(k + rec(x - 1, i + 1, cache, horizon), \n",
    "                        rec(x, i + 1, cache, horizon))\n",
    "        \n",
    "    cache[(x, i)] = s\n",
    "        \n",
    "    return s"
   ]
  },
  {
   "cell_type": "markdown",
   "metadata": {},
   "source": [
    "We now compute compute $V_1(B)$ for different values of the budget $B$."
   ]
  },
  {
   "cell_type": "code",
   "execution_count": 2,
   "metadata": {
    "scrolled": true
   },
   "outputs": [
    {
     "data": {
      "text/plain": [
       "[39.9999052915732,\n",
       " 79.66808259774882,\n",
       " 113.88312226804393,\n",
       " 143.98469879134097,\n",
       " 172.1945363788912,\n",
       " 193.98469879134103,\n",
       " 213.88312226804396,\n",
       " 229.66808259774882,\n",
       " 239.99990529157316,\n",
       " 250.0]"
      ]
     },
     "execution_count": 2,
     "metadata": {},
     "output_type": "execute_result"
    }
   ],
   "source": [
    "v = []\n",
    "\n",
    "for i in range(10,110,10):\n",
    "    v.append(rec(x = i , i = 1, cache = {}, horizon = 100))\n",
    "        \n",
    "v"
   ]
  },
  {
   "cell_type": "markdown",
   "metadata": {},
   "source": [
    "As a sanity check, notice that when we have $B=100$, i.e we can hire someone at every step, then we get the average of the rankings at each step."
   ]
  },
  {
   "cell_type": "markdown",
   "metadata": {},
   "source": [
    "We now slightly modify the above function in order to print the optimal policy at each step."
   ]
  },
  {
   "cell_type": "code",
   "execution_count": 12,
   "metadata": {},
   "outputs": [],
   "source": [
    "def rec_policy(x, i, cache, horizon):\n",
    "    \n",
    "    if i > horizon:\n",
    "        return 0 \n",
    "    if x == 0:\n",
    "        return 0\n",
    "    \n",
    "    if (x,i) in cache:\n",
    "        return(cache[(x,i)])\n",
    "    \n",
    "    s = 0\n",
    "    found = False\n",
    "    for k in range(1, 5):\n",
    "        s += 0.25 * max(k + rec_policy(x - 1, i + 1, cache, horizon), \n",
    "                        rec_policy(x, i + 1, cache, horizon))\n",
    "        if found == False and (k + rec_policy(x - 1,i + 1,cache,horizon))\\\n",
    "            > rec_policy(x, i + 1, cache, horizon):\n",
    "            print(\"Remaining To Spend: \" + str(x) \n",
    "                  + \" Iteration: \" + str(i) + \" Hire: \" + str(k) )\n",
    "            found = True\n",
    "        \n",
    "    cache[(x, i)] = s\n",
    "        \n",
    "    return s"
   ]
  },
  {
   "cell_type": "code",
   "execution_count": 13,
   "metadata": {},
   "outputs": [
    {
     "name": "stdout",
     "output_type": "stream",
     "text": [
      "Remaining To Spend: 1 Iteration: 100 Hire: 1\n",
      "Remaining To Spend: 1 Iteration: 99 Hire: 3\n",
      "Remaining To Spend: 1 Iteration: 98 Hire: 4\n",
      "Remaining To Spend: 1 Iteration: 97 Hire: 4\n",
      "Remaining To Spend: 1 Iteration: 96 Hire: 4\n",
      "Remaining To Spend: 1 Iteration: 95 Hire: 4\n",
      "Remaining To Spend: 1 Iteration: 94 Hire: 4\n",
      "Remaining To Spend: 1 Iteration: 93 Hire: 4\n",
      "Remaining To Spend: 1 Iteration: 92 Hire: 4\n",
      "Remaining To Spend: 1 Iteration: 91 Hire: 4\n",
      "Remaining To Spend: 1 Iteration: 90 Hire: 4\n",
      "Remaining To Spend: 1 Iteration: 89 Hire: 4\n",
      "Remaining To Spend: 1 Iteration: 88 Hire: 4\n",
      "Remaining To Spend: 1 Iteration: 87 Hire: 4\n",
      "Remaining To Spend: 1 Iteration: 86 Hire: 4\n",
      "Remaining To Spend: 1 Iteration: 85 Hire: 4\n",
      "Remaining To Spend: 1 Iteration: 84 Hire: 4\n",
      "Remaining To Spend: 2 Iteration: 100 Hire: 1\n",
      "Remaining To Spend: 2 Iteration: 99 Hire: 1\n",
      "Remaining To Spend: 2 Iteration: 98 Hire: 3\n",
      "Remaining To Spend: 2 Iteration: 97 Hire: 3\n",
      "Remaining To Spend: 2 Iteration: 96 Hire: 3\n",
      "Remaining To Spend: 2 Iteration: 95 Hire: 4\n",
      "Remaining To Spend: 2 Iteration: 94 Hire: 4\n",
      "Remaining To Spend: 2 Iteration: 93 Hire: 4\n",
      "Remaining To Spend: 2 Iteration: 92 Hire: 4\n",
      "Remaining To Spend: 2 Iteration: 91 Hire: 4\n",
      "Remaining To Spend: 2 Iteration: 90 Hire: 4\n",
      "Remaining To Spend: 2 Iteration: 89 Hire: 4\n",
      "Remaining To Spend: 2 Iteration: 88 Hire: 4\n",
      "Remaining To Spend: 2 Iteration: 87 Hire: 4\n",
      "Remaining To Spend: 2 Iteration: 86 Hire: 4\n",
      "Remaining To Spend: 2 Iteration: 85 Hire: 4\n",
      "Remaining To Spend: 2 Iteration: 84 Hire: 4\n",
      "Remaining To Spend: 2 Iteration: 83 Hire: 4\n",
      "Remaining To Spend: 3 Iteration: 100 Hire: 1\n",
      "Remaining To Spend: 3 Iteration: 99 Hire: 1\n",
      "Remaining To Spend: 3 Iteration: 98 Hire: 1\n",
      "Remaining To Spend: 3 Iteration: 97 Hire: 2\n",
      "Remaining To Spend: 3 Iteration: 96 Hire: 3\n",
      "Remaining To Spend: 3 Iteration: 95 Hire: 3\n",
      "Remaining To Spend: 3 Iteration: 94 Hire: 3\n",
      "Remaining To Spend: 3 Iteration: 93 Hire: 3\n",
      "Remaining To Spend: 3 Iteration: 92 Hire: 4\n",
      "Remaining To Spend: 3 Iteration: 91 Hire: 4\n",
      "Remaining To Spend: 3 Iteration: 90 Hire: 4\n",
      "Remaining To Spend: 3 Iteration: 89 Hire: 4\n",
      "Remaining To Spend: 3 Iteration: 88 Hire: 4\n",
      "Remaining To Spend: 3 Iteration: 87 Hire: 4\n",
      "Remaining To Spend: 3 Iteration: 86 Hire: 4\n",
      "Remaining To Spend: 3 Iteration: 85 Hire: 4\n",
      "Remaining To Spend: 3 Iteration: 84 Hire: 4\n",
      "Remaining To Spend: 3 Iteration: 83 Hire: 4\n",
      "Remaining To Spend: 3 Iteration: 82 Hire: 4\n",
      "Remaining To Spend: 4 Iteration: 100 Hire: 1\n",
      "Remaining To Spend: 4 Iteration: 99 Hire: 1\n",
      "Remaining To Spend: 4 Iteration: 98 Hire: 1\n",
      "Remaining To Spend: 4 Iteration: 97 Hire: 1\n",
      "Remaining To Spend: 4 Iteration: 96 Hire: 2\n",
      "Remaining To Spend: 4 Iteration: 95 Hire: 2\n",
      "Remaining To Spend: 4 Iteration: 94 Hire: 3\n",
      "Remaining To Spend: 4 Iteration: 93 Hire: 3\n",
      "Remaining To Spend: 4 Iteration: 92 Hire: 3\n",
      "Remaining To Spend: 4 Iteration: 91 Hire: 3\n",
      "Remaining To Spend: 4 Iteration: 90 Hire: 3\n",
      "Remaining To Spend: 4 Iteration: 89 Hire: 4\n",
      "Remaining To Spend: 4 Iteration: 88 Hire: 4\n",
      "Remaining To Spend: 4 Iteration: 87 Hire: 4\n",
      "Remaining To Spend: 4 Iteration: 86 Hire: 4\n",
      "Remaining To Spend: 4 Iteration: 85 Hire: 4\n",
      "Remaining To Spend: 4 Iteration: 84 Hire: 4\n",
      "Remaining To Spend: 4 Iteration: 83 Hire: 4\n",
      "Remaining To Spend: 4 Iteration: 82 Hire: 4\n",
      "Remaining To Spend: 4 Iteration: 81 Hire: 4\n",
      "Remaining To Spend: 5 Iteration: 100 Hire: 1\n",
      "Remaining To Spend: 5 Iteration: 99 Hire: 1\n",
      "Remaining To Spend: 5 Iteration: 98 Hire: 1\n",
      "Remaining To Spend: 5 Iteration: 97 Hire: 1\n",
      "Remaining To Spend: 5 Iteration: 96 Hire: 1\n",
      "Remaining To Spend: 5 Iteration: 95 Hire: 2\n",
      "Remaining To Spend: 5 Iteration: 94 Hire: 2\n",
      "Remaining To Spend: 5 Iteration: 93 Hire: 3\n",
      "Remaining To Spend: 5 Iteration: 92 Hire: 3\n",
      "Remaining To Spend: 5 Iteration: 91 Hire: 3\n",
      "Remaining To Spend: 5 Iteration: 90 Hire: 3\n",
      "Remaining To Spend: 5 Iteration: 89 Hire: 3\n",
      "Remaining To Spend: 5 Iteration: 88 Hire: 3\n",
      "Remaining To Spend: 5 Iteration: 87 Hire: 3\n",
      "Remaining To Spend: 5 Iteration: 86 Hire: 4\n",
      "Remaining To Spend: 5 Iteration: 85 Hire: 4\n",
      "Remaining To Spend: 5 Iteration: 84 Hire: 4\n",
      "Remaining To Spend: 5 Iteration: 83 Hire: 4\n",
      "Remaining To Spend: 5 Iteration: 82 Hire: 4\n",
      "Remaining To Spend: 5 Iteration: 81 Hire: 4\n",
      "Remaining To Spend: 5 Iteration: 80 Hire: 4\n"
     ]
    },
    {
     "data": {
      "text/plain": [
       "19.022788893722463"
      ]
     },
     "execution_count": 13,
     "metadata": {},
     "output_type": "execute_result"
    }
   ],
   "source": [
    "rec_policy(x = 5 , i = 80, cache = {}, horizon = 100)"
   ]
  },
  {
   "cell_type": "markdown",
   "metadata": {},
   "source": [
    "We now have the value we are expecting to get under these conditions and also the hiring decision at each step. For example when we we have 1 more to spend and two people to interview, we should hire someone that is a $3$ or more but when we only have 1 more people to interview we should hire anyone."
   ]
  },
  {
   "cell_type": "markdown",
   "metadata": {},
   "source": [
    "### Part (c)"
   ]
  },
  {
   "cell_type": "markdown",
   "metadata": {},
   "source": [
    "By inspecting the result obtained from part (b), we can see that this provides a good approximation to the actual value function, which is 113.9."
   ]
  },
  {
   "cell_type": "markdown",
   "metadata": {},
   "source": [
    "## Question 2"
   ]
  },
  {
   "cell_type": "markdown",
   "metadata": {},
   "source": [
    "### Part (a)"
   ]
  },
  {
   "cell_type": "markdown",
   "metadata": {},
   "source": [
    "We can use the equation derived above. However, we don't have the time index anymore since the horizon is infinite now. Furthermore, since a discounting of $\\beta$ is applied at every step, we must multiply the the value function with $\\beta$ in the formula. We thus have"
   ]
  },
  {
   "cell_type": "markdown",
   "metadata": {},
   "source": [
    "$$V(x)=\\sum_{k=1}^{4}p_k \\max\\big\\{k+\\beta V(x-1),\\beta V(x) \\big\\}$$"
   ]
  },
  {
   "cell_type": "code",
   "execution_count": 14,
   "metadata": {},
   "outputs": [
    {
     "data": {
      "text/plain": [
       "array([ 0.        ,  3.47826087,  6.48033126,  9.19649019, 11.65396732,\n",
       "       13.877399  , 15.91822529, 17.82522691, 19.60717925, 21.27228225,\n",
       "       22.82819817, 24.28208681, 25.6406385 , 26.91010482, 28.09632746,\n",
       "       29.204765  , 30.24452675, 31.23230041, 32.17068539, 33.06215112,\n",
       "       33.90904357, 34.71359139, 35.47791182, 36.20401623, 36.89381542,\n",
       "       37.54912465, 38.17166841, 38.76308499, 39.32493074, 39.85868421,\n",
       "       40.36575   , 40.8474625 , 41.30508937, 41.7398349 , 42.15284316,\n",
       "       42.545201  , 42.91794095, 43.2720439 , 43.60844171, 43.92801962,\n",
       "       44.23161864, 44.52003771, 44.79403582, 45.05433403, 45.30161733,\n",
       "       45.53653646, 45.75970964, 45.97172416, 46.17313795, 46.36448105,\n",
       "       46.546257  ])"
      ]
     },
     "execution_count": 14,
     "metadata": {},
     "output_type": "execute_result"
    }
   ],
   "source": [
    "import numpy as np\n",
    "\n",
    "beta = 0.95\n",
    "\n",
    "v = np.zeros(51)\n",
    "t = np.zeros(51)\n",
    "\n",
    "for i in range(1000):\n",
    "    for x in range(1,51):\n",
    "        s = 0\n",
    "        t_i = []\n",
    "        for k in range(1,5):\n",
    "            s += 0.25*max(k + beta*v[x-1], beta*v[x])\n",
    "            if (k + beta*v[x-1]) > beta*v[x]:\n",
    "                t_i.append(k)\n",
    "            \n",
    "        v[x] = s\n",
    "        t[x] = min(t_i)\n",
    "\n",
    "v"
   ]
  },
  {
   "cell_type": "markdown",
   "metadata": {},
   "source": [
    "### Part (b)"
   ]
  },
  {
   "cell_type": "code",
   "execution_count": 15,
   "metadata": {},
   "outputs": [
    {
     "data": {
      "image/png": "[encoded data removed]",
      "text/plain": [
       "<Figure size 432x288 with 1 Axes>"
      ]
     },
     "metadata": {
      "needs_background": "light"
     },
     "output_type": "display_data"
    }
   ],
   "source": [
    "import matplotlib.pyplot as plt\n",
    "\n",
    "threshold_cts = [v[i+1]-v[i] for i in range(1,len(t)-1)]\n",
    "plt.plot(threshold_cts)\n",
    "plt.title('Continuous threshold as a function of the budget')\n",
    "plt.xlabel('Budget')\n",
    "plt.ylabel('Threshold')\n",
    "plt.show()"
   ]
  },
  {
   "cell_type": "markdown",
   "metadata": {},
   "source": [
    "We can also plot a discrete version of this using the 't' list computed above. Here, for each value of budget we have a discrete value saying what is the minimum quality that an employee should have in order to get hired for each value of the budget."
   ]
  },
  {
   "cell_type": "code",
   "execution_count": 16,
   "metadata": {},
   "outputs": [
    {
     "data": {
      "image/png": "[encoded data removed]",
      "text/plain": [
       "<Figure size 432x288 with 1 Axes>"
      ]
     },
     "metadata": {
      "needs_background": "light"
     },
     "output_type": "display_data"
    }
   ],
   "source": [
    "plt.scatter(np.arange(51),t)\n",
    "plt.title('Discrete threshold as a function of the budget')\n",
    "plt.xlabel('Budget')\n",
    "plt.ylabel('Threshold')\n",
    "plt.show()"
   ]
  }
 ],
 "metadata": {
  "kernelspec": {
   "display_name": "Python 3",
   "language": "python",
   "name": "python3"
  },
  "language_info": {
   "codemirror_mode": {
    "name": "ipython",
    "version": 3
   },
   "file_extension": ".py",
   "mimetype": "text/x-python",
   "name": "python",
   "nbconvert_exporter": "python",
   "pygments_lexer": "ipython3",
   "version": "3.7.3"
  }
 },
 "nbformat": 4,
 "nbformat_minor": 2
}
